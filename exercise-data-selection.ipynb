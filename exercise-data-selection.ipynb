{
 "cells": [
  {
   "cell_type": "markdown",
   "id": "da8a289d-d8ac-4e8c-970f-9119d54d816e",
   "metadata": {},
   "source": [
    "# Archive Exploration\n",
    "(a) What is this data about?\n",
    "- This data looks at the occurances of prey for a list ofendagered species.\n",
    "(b)\n",
    "- This data was collected by synthesizing multiple datasets\n",
    "(c) During what time frame were the observations in the dataset collected?\n",
    "- 1945-2022\n",
    "(d) Does this dataset come with an associated metadata file?\n",
    "- yes\n",
    "(e)Does the dataset contain sensitive data?\n",
    "- no, this dataset is categorized as \"Non-Sensitive Data\""
   ]
  },
  {
   "cell_type": "markdown",
   "id": "586df214-3790-4b34-a2f4-0182f9c5f780",
   "metadata": {},
   "source": [
    "This dataset looked at occurances of prey species and used the variety of datasets to extract environmental data.\n",
    "Rachel King, Jenna Braun, Michael Westphal, & CJ Lortie. (2023). Compiled occurrence records for prey items of listed species found in California drylands with associated environmental data. Knowledge Network for Biocomplexity. Accessed 10/5/2023 doi:10.5063/F1VM49RH. "
   ]
  }
 ],
 "metadata": {
  "kernelspec": {
   "display_name": "Anaconda 3 (Base)",
   "language": "python",
   "name": "base"
  },
  "language_info": {
   "codemirror_mode": {
    "name": "ipython",
    "version": 3
   },
   "file_extension": ".py",
   "mimetype": "text/x-python",
   "name": "python",
   "nbconvert_exporter": "python",
   "pygments_lexer": "ipython3",
   "version": "3.9.13"
  }
 },
 "nbformat": 4,
 "nbformat_minor": 5
}
